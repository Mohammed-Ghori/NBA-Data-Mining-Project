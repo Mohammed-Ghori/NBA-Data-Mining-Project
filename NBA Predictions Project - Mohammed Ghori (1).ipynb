{
 "cells": [
  {
   "cell_type": "markdown",
   "metadata": {},
   "source": [
    "Mohammed Ghori\n",
    "* BAP Final Project - Tues Night 6-9 PM Section 60\n",
    "* Professor Parkhi"
   ]
  },
  {
   "cell_type": "markdown",
   "metadata": {},
   "source": [
    "## Dataset: https://www.kaggle.com/wyattowalsh/basketball"
   ]
  },
  {
   "cell_type": "markdown",
   "metadata": {},
   "source": [
    "## Project Description\n",
    "Predict how likely a team is to win a game based on various simple counting statistics at halftime. Many sports betting websites now allow players to place bets at halftime. With a small sample of data generated from the first half of the game, it may be wise to use this data as a \"training set\" to predict how the second half of the game would play out. Doing so can have applications in sports betting by being able to accurately predict a winner from halftime, leading to more accurate live betting odds and thus lower payouts from sports betting companies to lucky winners.\n",
    "\n",
    "### Problem Statement\n",
    "We can more accurately predict the outcome of an NBA basektball game using halftime data as our main predictor, leading to better outcomes for sports betting and more accurate betting lines which can save the betting companies money by reducing payouts from inaccurate betting lines."
   ]
  },
  {
   "cell_type": "code",
   "execution_count": 56,
   "metadata": {
    "slideshow": {
     "slide_type": "slide"
    }
   },
   "outputs": [],
   "source": [
    "import pandas as pd\n",
    "import numpy as np\n",
    "import matplotlib.pyplot as plt\n",
    "import seaborn as sns\n",
    "import sqlite3\n",
    "\n",
    "from sklearn.preprocessing import StandardScaler\n",
    "from sklearn.model_selection import train_test_split\n",
    "from sklearn.linear_model import LogisticRegression\n",
    "from sklearn.neighbors import KNeighborsClassifier\n",
    "from sklearn.metrics import accuracy_score\n",
    "from sklearn.metrics import classification_report"
   ]
  },
  {
   "cell_type": "code",
   "execution_count": 2,
   "metadata": {},
   "outputs": [
    {
     "name": "stdout",
     "output_type": "stream",
     "text": [
      "<sqlite3.Connection object at 0x7fc338302210>\n"
     ]
    }
   ],
   "source": [
    "conect = sqlite3.connect(r\"/Users/mohammedghori/Downloads/archive/basketball.sqlite\")\n",
    "print(conect)"
   ]
  },
  {
   "cell_type": "code",
   "execution_count": 57,
   "metadata": {},
   "outputs": [],
   "source": [
    "# SQL Query\n",
    "sql = \"SELECT WL_HOME,WL_Away,PTS_QTR1_HOME,PTS_QTR2_HOME, PTS_QTR1_AWAY,PTS_QTR2_AWAY, AST_HOME, AST_AWAY, DREB_HOME, DREB_AWAY, OREB_HOME, OREB_AWAY, STL_HOME, STL_AWAY, FTA_HOME, FTA_AWAY, BLK_HOME, BLK_AWAY, TOV_HOME, TOV_AWAY FROM Game WHERE SEASON_ID >= '22018'\"\n",
    "dfhome = pd.read_sql(sql = sql, con = conect)"
   ]
  },
  {
   "cell_type": "markdown",
   "metadata": {},
   "source": [
    "### About the Dataset\n",
    "\n",
    "Contains data from NBA games since 2018-2019 season, including stats such as points, rebounds, assists, steals, turnovers, and blocks. Also contains a win/loss column for both the home and away team, marked by a \"W\" or an \"L\". Statistical data is all numeric. "
   ]
  },
  {
   "cell_type": "code",
   "execution_count": 32,
   "metadata": {
    "scrolled": false
   },
   "outputs": [
    {
     "data": {
      "text/html": [
       "<div>\n",
       "<style scoped>\n",
       "    .dataframe tbody tr th:only-of-type {\n",
       "        vertical-align: middle;\n",
       "    }\n",
       "\n",
       "    .dataframe tbody tr th {\n",
       "        vertical-align: top;\n",
       "    }\n",
       "\n",
       "    .dataframe thead th {\n",
       "        text-align: right;\n",
       "    }\n",
       "</style>\n",
       "<table border=\"1\" class=\"dataframe\">\n",
       "  <thead>\n",
       "    <tr style=\"text-align: right;\">\n",
       "      <th></th>\n",
       "      <th>WL_HOME</th>\n",
       "      <th>WL_AWAY</th>\n",
       "      <th>PTS_QTR1_HOME</th>\n",
       "      <th>PTS_QTR2_HOME</th>\n",
       "      <th>PTS_QTR1_AWAY</th>\n",
       "      <th>PTS_QTR2_AWAY</th>\n",
       "      <th>AST_HOME</th>\n",
       "      <th>AST_AWAY</th>\n",
       "      <th>DREB_HOME</th>\n",
       "      <th>DREB_AWAY</th>\n",
       "      <th>OREB_HOME</th>\n",
       "      <th>OREB_AWAY</th>\n",
       "      <th>STL_HOME</th>\n",
       "      <th>STL_AWAY</th>\n",
       "      <th>FTA_HOME</th>\n",
       "      <th>FTA_AWAY</th>\n",
       "      <th>BLK_HOME</th>\n",
       "      <th>BLK_AWAY</th>\n",
       "      <th>TOV_HOME</th>\n",
       "      <th>TOV_AWAY</th>\n",
       "    </tr>\n",
       "  </thead>\n",
       "  <tbody>\n",
       "    <tr>\n",
       "      <th>0</th>\n",
       "      <td>W</td>\n",
       "      <td>L</td>\n",
       "      <td>31</td>\n",
       "      <td>26</td>\n",
       "      <td>23</td>\n",
       "      <td>24</td>\n",
       "      <td>28</td>\n",
       "      <td>21</td>\n",
       "      <td>41</td>\n",
       "      <td>29</td>\n",
       "      <td>17</td>\n",
       "      <td>16</td>\n",
       "      <td>7</td>\n",
       "      <td>12</td>\n",
       "      <td>18.0</td>\n",
       "      <td>37.0</td>\n",
       "      <td>7</td>\n",
       "      <td>6</td>\n",
       "      <td>21</td>\n",
       "      <td>15</td>\n",
       "    </tr>\n",
       "    <tr>\n",
       "      <th>1</th>\n",
       "      <td>W</td>\n",
       "      <td>L</td>\n",
       "      <td>21</td>\n",
       "      <td>26</td>\n",
       "      <td>21</td>\n",
       "      <td>21</td>\n",
       "      <td>21</td>\n",
       "      <td>18</td>\n",
       "      <td>43</td>\n",
       "      <td>41</td>\n",
       "      <td>12</td>\n",
       "      <td>6</td>\n",
       "      <td>7</td>\n",
       "      <td>8</td>\n",
       "      <td>14.0</td>\n",
       "      <td>23.0</td>\n",
       "      <td>5</td>\n",
       "      <td>5</td>\n",
       "      <td>15</td>\n",
       "      <td>16</td>\n",
       "    </tr>\n",
       "    <tr>\n",
       "      <th>2</th>\n",
       "      <td>W</td>\n",
       "      <td>L</td>\n",
       "      <td>31</td>\n",
       "      <td>25</td>\n",
       "      <td>23</td>\n",
       "      <td>29</td>\n",
       "      <td>22</td>\n",
       "      <td>20</td>\n",
       "      <td>33</td>\n",
       "      <td>32</td>\n",
       "      <td>19</td>\n",
       "      <td>14</td>\n",
       "      <td>3</td>\n",
       "      <td>9</td>\n",
       "      <td>29.0</td>\n",
       "      <td>27.0</td>\n",
       "      <td>4</td>\n",
       "      <td>2</td>\n",
       "      <td>12</td>\n",
       "      <td>11</td>\n",
       "    </tr>\n",
       "    <tr>\n",
       "      <th>3</th>\n",
       "      <td>W</td>\n",
       "      <td>L</td>\n",
       "      <td>23</td>\n",
       "      <td>49</td>\n",
       "      <td>24</td>\n",
       "      <td>25</td>\n",
       "      <td>21</td>\n",
       "      <td>19</td>\n",
       "      <td>36</td>\n",
       "      <td>38</td>\n",
       "      <td>10</td>\n",
       "      <td>7</td>\n",
       "      <td>12</td>\n",
       "      <td>7</td>\n",
       "      <td>31.0</td>\n",
       "      <td>18.0</td>\n",
       "      <td>6</td>\n",
       "      <td>3</td>\n",
       "      <td>16</td>\n",
       "      <td>24</td>\n",
       "    </tr>\n",
       "    <tr>\n",
       "      <th>4</th>\n",
       "      <td>W</td>\n",
       "      <td>L</td>\n",
       "      <td>37</td>\n",
       "      <td>19</td>\n",
       "      <td>24</td>\n",
       "      <td>22</td>\n",
       "      <td>35</td>\n",
       "      <td>28</td>\n",
       "      <td>38</td>\n",
       "      <td>28</td>\n",
       "      <td>6</td>\n",
       "      <td>10</td>\n",
       "      <td>5</td>\n",
       "      <td>7</td>\n",
       "      <td>16.0</td>\n",
       "      <td>20.0</td>\n",
       "      <td>2</td>\n",
       "      <td>5</td>\n",
       "      <td>12</td>\n",
       "      <td>9</td>\n",
       "    </tr>\n",
       "  </tbody>\n",
       "</table>\n",
       "</div>"
      ],
      "text/plain": [
       "  WL_HOME WL_AWAY PTS_QTR1_HOME PTS_QTR2_HOME PTS_QTR1_AWAY PTS_QTR2_AWAY  \\\n",
       "0       W       L            31            26            23            24   \n",
       "1       W       L            21            26            21            21   \n",
       "2       W       L            31            25            23            29   \n",
       "3       W       L            23            49            24            25   \n",
       "4       W       L            37            19            24            22   \n",
       "\n",
       "  AST_HOME AST_AWAY DREB_HOME DREB_AWAY OREB_HOME OREB_AWAY STL_HOME STL_AWAY  \\\n",
       "0       28       21        41        29        17        16        7       12   \n",
       "1       21       18        43        41        12         6        7        8   \n",
       "2       22       20        33        32        19        14        3        9   \n",
       "3       21       19        36        38        10         7       12        7   \n",
       "4       35       28        38        28         6        10        5        7   \n",
       "\n",
       "   FTA_HOME  FTA_AWAY BLK_HOME BLK_AWAY TOV_HOME TOV_AWAY  \n",
       "0      18.0      37.0        7        6       21       15  \n",
       "1      14.0      23.0        5        5       15       16  \n",
       "2      29.0      27.0        4        2       12       11  \n",
       "3      31.0      18.0        6        3       16       24  \n",
       "4      16.0      20.0        2        5       12        9  "
      ]
     },
     "execution_count": 32,
     "metadata": {},
     "output_type": "execute_result"
    }
   ],
   "source": [
    "dfhome.head()"
   ]
  },
  {
   "cell_type": "code",
   "execution_count": 33,
   "metadata": {},
   "outputs": [
    {
     "data": {
      "text/html": [
       "<div>\n",
       "<style scoped>\n",
       "    .dataframe tbody tr th:only-of-type {\n",
       "        vertical-align: middle;\n",
       "    }\n",
       "\n",
       "    .dataframe tbody tr th {\n",
       "        vertical-align: top;\n",
       "    }\n",
       "\n",
       "    .dataframe thead th {\n",
       "        text-align: right;\n",
       "    }\n",
       "</style>\n",
       "<table border=\"1\" class=\"dataframe\">\n",
       "  <thead>\n",
       "    <tr style=\"text-align: right;\">\n",
       "      <th></th>\n",
       "      <th>FTA_HOME</th>\n",
       "      <th>FTA_AWAY</th>\n",
       "    </tr>\n",
       "  </thead>\n",
       "  <tbody>\n",
       "    <tr>\n",
       "      <th>count</th>\n",
       "      <td>3374.000000</td>\n",
       "      <td>3374.000000</td>\n",
       "    </tr>\n",
       "    <tr>\n",
       "      <th>mean</th>\n",
       "      <td>22.903972</td>\n",
       "      <td>22.243628</td>\n",
       "    </tr>\n",
       "    <tr>\n",
       "      <th>std</th>\n",
       "      <td>7.410957</td>\n",
       "      <td>7.306425</td>\n",
       "    </tr>\n",
       "    <tr>\n",
       "      <th>min</th>\n",
       "      <td>2.000000</td>\n",
       "      <td>4.000000</td>\n",
       "    </tr>\n",
       "    <tr>\n",
       "      <th>25%</th>\n",
       "      <td>18.000000</td>\n",
       "      <td>17.000000</td>\n",
       "    </tr>\n",
       "    <tr>\n",
       "      <th>50%</th>\n",
       "      <td>23.000000</td>\n",
       "      <td>22.000000</td>\n",
       "    </tr>\n",
       "    <tr>\n",
       "      <th>75%</th>\n",
       "      <td>28.000000</td>\n",
       "      <td>27.000000</td>\n",
       "    </tr>\n",
       "    <tr>\n",
       "      <th>max</th>\n",
       "      <td>51.000000</td>\n",
       "      <td>54.000000</td>\n",
       "    </tr>\n",
       "  </tbody>\n",
       "</table>\n",
       "</div>"
      ],
      "text/plain": [
       "          FTA_HOME     FTA_AWAY\n",
       "count  3374.000000  3374.000000\n",
       "mean     22.903972    22.243628\n",
       "std       7.410957     7.306425\n",
       "min       2.000000     4.000000\n",
       "25%      18.000000    17.000000\n",
       "50%      23.000000    22.000000\n",
       "75%      28.000000    27.000000\n",
       "max      51.000000    54.000000"
      ]
     },
     "execution_count": 33,
     "metadata": {},
     "output_type": "execute_result"
    }
   ],
   "source": [
    "dfhome.describe()"
   ]
  },
  {
   "cell_type": "markdown",
   "metadata": {},
   "source": [
    "## Data Cleaning \n",
    "### 1. Finding and removing Nulls"
   ]
  },
  {
   "cell_type": "code",
   "execution_count": 34,
   "metadata": {
    "scrolled": false
   },
   "outputs": [
    {
     "data": {
      "text/plain": [
       "WL_HOME          40\n",
       "WL_AWAY          40\n",
       "PTS_QTR1_HOME     5\n",
       "PTS_QTR2_HOME     5\n",
       "PTS_QTR1_AWAY     5\n",
       "PTS_QTR2_AWAY     5\n",
       "AST_HOME          0\n",
       "AST_AWAY          0\n",
       "DREB_HOME         0\n",
       "DREB_AWAY         0\n",
       "OREB_HOME         0\n",
       "OREB_AWAY         0\n",
       "STL_HOME          0\n",
       "STL_AWAY          0\n",
       "FTA_HOME          0\n",
       "FTA_AWAY          0\n",
       "BLK_HOME          0\n",
       "BLK_AWAY          0\n",
       "TOV_HOME          0\n",
       "TOV_AWAY          0\n",
       "dtype: int64"
      ]
     },
     "execution_count": 34,
     "metadata": {},
     "output_type": "execute_result"
    }
   ],
   "source": [
    "# Check for nulls - they are present\n",
    "dfhome.isnull().sum()"
   ]
  },
  {
   "cell_type": "code",
   "execution_count": 35,
   "metadata": {
    "scrolled": true
   },
   "outputs": [
    {
     "data": {
      "text/html": [
       "<div>\n",
       "<style scoped>\n",
       "    .dataframe tbody tr th:only-of-type {\n",
       "        vertical-align: middle;\n",
       "    }\n",
       "\n",
       "    .dataframe tbody tr th {\n",
       "        vertical-align: top;\n",
       "    }\n",
       "\n",
       "    .dataframe thead th {\n",
       "        text-align: right;\n",
       "    }\n",
       "</style>\n",
       "<table border=\"1\" class=\"dataframe\">\n",
       "  <thead>\n",
       "    <tr style=\"text-align: right;\">\n",
       "      <th></th>\n",
       "      <th>WL_HOME</th>\n",
       "      <th>WL_AWAY</th>\n",
       "      <th>PTS_QTR1_HOME</th>\n",
       "      <th>PTS_QTR2_HOME</th>\n",
       "      <th>PTS_QTR1_AWAY</th>\n",
       "      <th>PTS_QTR2_AWAY</th>\n",
       "      <th>AST_HOME</th>\n",
       "      <th>AST_AWAY</th>\n",
       "      <th>DREB_HOME</th>\n",
       "      <th>DREB_AWAY</th>\n",
       "      <th>OREB_HOME</th>\n",
       "      <th>OREB_AWAY</th>\n",
       "      <th>STL_HOME</th>\n",
       "      <th>STL_AWAY</th>\n",
       "      <th>FTA_HOME</th>\n",
       "      <th>FTA_AWAY</th>\n",
       "      <th>BLK_HOME</th>\n",
       "      <th>BLK_AWAY</th>\n",
       "      <th>TOV_HOME</th>\n",
       "      <th>TOV_AWAY</th>\n",
       "    </tr>\n",
       "  </thead>\n",
       "  <tbody>\n",
       "    <tr>\n",
       "      <th>2816</th>\n",
       "      <td>W</td>\n",
       "      <td>L</td>\n",
       "      <td>None</td>\n",
       "      <td>None</td>\n",
       "      <td>None</td>\n",
       "      <td>None</td>\n",
       "      <td>25</td>\n",
       "      <td>23</td>\n",
       "      <td>35</td>\n",
       "      <td>23</td>\n",
       "      <td>12</td>\n",
       "      <td>6</td>\n",
       "      <td>10</td>\n",
       "      <td>6</td>\n",
       "      <td>19.0</td>\n",
       "      <td>15.0</td>\n",
       "      <td>4</td>\n",
       "      <td>2</td>\n",
       "      <td>13</td>\n",
       "      <td>13</td>\n",
       "    </tr>\n",
       "    <tr>\n",
       "      <th>3114</th>\n",
       "      <td>L</td>\n",
       "      <td>W</td>\n",
       "      <td>None</td>\n",
       "      <td>None</td>\n",
       "      <td>None</td>\n",
       "      <td>None</td>\n",
       "      <td>28</td>\n",
       "      <td>33</td>\n",
       "      <td>25</td>\n",
       "      <td>41</td>\n",
       "      <td>11</td>\n",
       "      <td>7</td>\n",
       "      <td>12</td>\n",
       "      <td>4</td>\n",
       "      <td>19.0</td>\n",
       "      <td>13.0</td>\n",
       "      <td>2</td>\n",
       "      <td>6</td>\n",
       "      <td>8</td>\n",
       "      <td>21</td>\n",
       "    </tr>\n",
       "    <tr>\n",
       "      <th>3116</th>\n",
       "      <td>L</td>\n",
       "      <td>W</td>\n",
       "      <td>None</td>\n",
       "      <td>None</td>\n",
       "      <td>None</td>\n",
       "      <td>None</td>\n",
       "      <td>23</td>\n",
       "      <td>25</td>\n",
       "      <td>31</td>\n",
       "      <td>37</td>\n",
       "      <td>8</td>\n",
       "      <td>14</td>\n",
       "      <td>5</td>\n",
       "      <td>8</td>\n",
       "      <td>19.0</td>\n",
       "      <td>17.0</td>\n",
       "      <td>4</td>\n",
       "      <td>1</td>\n",
       "      <td>12</td>\n",
       "      <td>9</td>\n",
       "    </tr>\n",
       "    <tr>\n",
       "      <th>3154</th>\n",
       "      <td>L</td>\n",
       "      <td>W</td>\n",
       "      <td>None</td>\n",
       "      <td>None</td>\n",
       "      <td>None</td>\n",
       "      <td>None</td>\n",
       "      <td>28</td>\n",
       "      <td>30</td>\n",
       "      <td>30</td>\n",
       "      <td>34</td>\n",
       "      <td>7</td>\n",
       "      <td>10</td>\n",
       "      <td>5</td>\n",
       "      <td>7</td>\n",
       "      <td>24.0</td>\n",
       "      <td>28.0</td>\n",
       "      <td>2</td>\n",
       "      <td>2</td>\n",
       "      <td>13</td>\n",
       "      <td>13</td>\n",
       "    </tr>\n",
       "    <tr>\n",
       "      <th>3157</th>\n",
       "      <td>L</td>\n",
       "      <td>W</td>\n",
       "      <td>None</td>\n",
       "      <td>None</td>\n",
       "      <td>None</td>\n",
       "      <td>None</td>\n",
       "      <td>22</td>\n",
       "      <td>24</td>\n",
       "      <td>29</td>\n",
       "      <td>36</td>\n",
       "      <td>13</td>\n",
       "      <td>10</td>\n",
       "      <td>7</td>\n",
       "      <td>3</td>\n",
       "      <td>19.0</td>\n",
       "      <td>15.0</td>\n",
       "      <td>4</td>\n",
       "      <td>3</td>\n",
       "      <td>6</td>\n",
       "      <td>10</td>\n",
       "    </tr>\n",
       "  </tbody>\n",
       "</table>\n",
       "</div>"
      ],
      "text/plain": [
       "     WL_HOME WL_AWAY PTS_QTR1_HOME PTS_QTR2_HOME PTS_QTR1_AWAY PTS_QTR2_AWAY  \\\n",
       "2816       W       L          None          None          None          None   \n",
       "3114       L       W          None          None          None          None   \n",
       "3116       L       W          None          None          None          None   \n",
       "3154       L       W          None          None          None          None   \n",
       "3157       L       W          None          None          None          None   \n",
       "\n",
       "     AST_HOME AST_AWAY DREB_HOME DREB_AWAY OREB_HOME OREB_AWAY STL_HOME  \\\n",
       "2816       25       23        35        23        12         6       10   \n",
       "3114       28       33        25        41        11         7       12   \n",
       "3116       23       25        31        37         8        14        5   \n",
       "3154       28       30        30        34         7        10        5   \n",
       "3157       22       24        29        36        13        10        7   \n",
       "\n",
       "     STL_AWAY  FTA_HOME  FTA_AWAY BLK_HOME BLK_AWAY TOV_HOME TOV_AWAY  \n",
       "2816        6      19.0      15.0        4        2       13       13  \n",
       "3114        4      19.0      13.0        2        6        8       21  \n",
       "3116        8      19.0      17.0        4        1       12        9  \n",
       "3154        7      24.0      28.0        2        2       13       13  \n",
       "3157        3      19.0      15.0        4        3        6       10  "
      ]
     },
     "execution_count": 35,
     "metadata": {},
     "output_type": "execute_result"
    }
   ],
   "source": [
    "# View the NAs\n",
    "dfhome[dfhome[\"WL_HOME\"].isnull()]\n",
    "dfhome[dfhome[\"PTS_QTR1_HOME\"].isnull()]"
   ]
  },
  {
   "cell_type": "code",
   "execution_count": 36,
   "metadata": {},
   "outputs": [],
   "source": [
    "# Drop all rows that contain any NAs - missing important features, cannot recreate based on other data\n",
    "dfhome.dropna(inplace=True)"
   ]
  },
  {
   "cell_type": "markdown",
   "metadata": {},
   "source": [
    "### 2. Data Preparation - Correcting Data Types & Creating Features"
   ]
  },
  {
   "cell_type": "code",
   "execution_count": 37,
   "metadata": {},
   "outputs": [],
   "source": [
    "# Convert str to int\n",
    "dfhome[[\"PTS_QTR1_HOME\", \"PTS_QTR2_HOME\"]] = dfhome[[\"PTS_QTR1_HOME\", \"PTS_QTR2_HOME\"]].apply(pd.to_numeric)\n",
    "dfhome[[\"PTS_QTR1_AWAY\", \"PTS_QTR2_AWAY\"]] = dfhome[[\"PTS_QTR1_AWAY\", \"PTS_QTR2_AWAY\"]].apply(pd.to_numeric)"
   ]
  },
  {
   "cell_type": "code",
   "execution_count": 38,
   "metadata": {},
   "outputs": [],
   "source": [
    "# Create total points column\n",
    "dfhome[\"Halftime Home\"] = dfhome[\"PTS_QTR1_HOME\"] + dfhome[\"PTS_QTR2_HOME\"] \n",
    "dfhome[\"Halftime Away\"] = dfhome[\"PTS_QTR1_AWAY\"] + dfhome[\"PTS_QTR2_AWAY\"]\n",
    "\n",
    "# Create point differential column\n",
    "dfhome[\"Point Differential\"] = dfhome[\"Halftime Home\"] - dfhome[\"Halftime Away\"]"
   ]
  },
  {
   "cell_type": "code",
   "execution_count": 39,
   "metadata": {},
   "outputs": [],
   "source": [
    "# Convert all stat columns to integers\n",
    "dfhome[[\"PTS_QTR1_HOME\", \"PTS_QTR2_HOME\", \"AST_HOME\", \"AST_AWAY\", \"DREB_HOME\", \"DREB_AWAY\", \"OREB_HOME\", \"OREB_AWAY\", \"STL_HOME\", \"STL_AWAY\", \"FTA_HOME\", \"FTA_AWAY\", \"BLK_HOME\", \"BLK_AWAY\", \"TOV_HOME\", \"TOV_AWAY\"]] = dfhome[[\"PTS_QTR1_HOME\", \"PTS_QTR2_HOME\", \"AST_HOME\", \"AST_AWAY\", \"DREB_HOME\", \"DREB_AWAY\", \"OREB_HOME\", \"OREB_AWAY\", \"STL_HOME\", \"STL_AWAY\", \"FTA_HOME\", \"FTA_AWAY\", \"BLK_HOME\", \"BLK_AWAY\", \"TOV_HOME\", \"TOV_AWAY\"]].apply(pd.to_numeric)"
   ]
  },
  {
   "cell_type": "code",
   "execution_count": 40,
   "metadata": {},
   "outputs": [],
   "source": [
    "# Creating differential columns\n",
    "\n",
    "dfhome[\"Ast Differential\"] = (dfhome[\"AST_HOME\"] - dfhome[\"AST_AWAY\"])/2\n",
    "dfhome[\"DREB Differential\"] = (dfhome[\"DREB_HOME\"] - dfhome[\"DREB_AWAY\"])/2\n",
    "dfhome[\"OREB Differential\"] = (dfhome[\"OREB_HOME\"] - dfhome[\"OREB_AWAY\"])/2\n",
    "dfhome[\"Stl Differential\"] = (dfhome[\"STL_HOME\"] - dfhome[\"STL_AWAY\"])/2\n",
    "dfhome[\"FTA Differential\"] = (dfhome[\"FTA_HOME\"] - dfhome[\"FTA_AWAY\"])/2\n",
    "dfhome[\"Blk Differential\"] = (dfhome[\"BLK_HOME\"] - dfhome[\"BLK_AWAY\"])/2\n",
    "dfhome[\"Tov Differential\"] = (dfhome[\"TOV_HOME\"] - dfhome[\"TOV_AWAY\"])/2"
   ]
  },
  {
   "cell_type": "code",
   "execution_count": 41,
   "metadata": {},
   "outputs": [
    {
     "data": {
      "text/html": [
       "<div>\n",
       "<style scoped>\n",
       "    .dataframe tbody tr th:only-of-type {\n",
       "        vertical-align: middle;\n",
       "    }\n",
       "\n",
       "    .dataframe tbody tr th {\n",
       "        vertical-align: top;\n",
       "    }\n",
       "\n",
       "    .dataframe thead th {\n",
       "        text-align: right;\n",
       "    }\n",
       "</style>\n",
       "<table border=\"1\" class=\"dataframe\">\n",
       "  <thead>\n",
       "    <tr style=\"text-align: right;\">\n",
       "      <th></th>\n",
       "      <th>WL_HOME</th>\n",
       "      <th>WL_AWAY</th>\n",
       "      <th>PTS_QTR1_HOME</th>\n",
       "      <th>PTS_QTR2_HOME</th>\n",
       "      <th>PTS_QTR1_AWAY</th>\n",
       "      <th>PTS_QTR2_AWAY</th>\n",
       "      <th>AST_HOME</th>\n",
       "      <th>AST_AWAY</th>\n",
       "      <th>DREB_HOME</th>\n",
       "      <th>DREB_AWAY</th>\n",
       "      <th>...</th>\n",
       "      <th>Halftime Home</th>\n",
       "      <th>Halftime Away</th>\n",
       "      <th>Point Differential</th>\n",
       "      <th>Ast Differential</th>\n",
       "      <th>DREB Differential</th>\n",
       "      <th>OREB Differential</th>\n",
       "      <th>Stl Differential</th>\n",
       "      <th>FTA Differential</th>\n",
       "      <th>Blk Differential</th>\n",
       "      <th>Tov Differential</th>\n",
       "    </tr>\n",
       "  </thead>\n",
       "  <tbody>\n",
       "    <tr>\n",
       "      <th>0</th>\n",
       "      <td>W</td>\n",
       "      <td>L</td>\n",
       "      <td>31.0</td>\n",
       "      <td>26.0</td>\n",
       "      <td>23.0</td>\n",
       "      <td>24.0</td>\n",
       "      <td>28</td>\n",
       "      <td>21</td>\n",
       "      <td>41</td>\n",
       "      <td>29</td>\n",
       "      <td>...</td>\n",
       "      <td>57.0</td>\n",
       "      <td>47.0</td>\n",
       "      <td>10.0</td>\n",
       "      <td>3.5</td>\n",
       "      <td>6.0</td>\n",
       "      <td>0.5</td>\n",
       "      <td>-2.5</td>\n",
       "      <td>-9.5</td>\n",
       "      <td>0.5</td>\n",
       "      <td>3.0</td>\n",
       "    </tr>\n",
       "    <tr>\n",
       "      <th>1</th>\n",
       "      <td>W</td>\n",
       "      <td>L</td>\n",
       "      <td>21.0</td>\n",
       "      <td>26.0</td>\n",
       "      <td>21.0</td>\n",
       "      <td>21.0</td>\n",
       "      <td>21</td>\n",
       "      <td>18</td>\n",
       "      <td>43</td>\n",
       "      <td>41</td>\n",
       "      <td>...</td>\n",
       "      <td>47.0</td>\n",
       "      <td>42.0</td>\n",
       "      <td>5.0</td>\n",
       "      <td>1.5</td>\n",
       "      <td>1.0</td>\n",
       "      <td>3.0</td>\n",
       "      <td>-0.5</td>\n",
       "      <td>-4.5</td>\n",
       "      <td>0.0</td>\n",
       "      <td>-0.5</td>\n",
       "    </tr>\n",
       "    <tr>\n",
       "      <th>2</th>\n",
       "      <td>W</td>\n",
       "      <td>L</td>\n",
       "      <td>31.0</td>\n",
       "      <td>25.0</td>\n",
       "      <td>23.0</td>\n",
       "      <td>29.0</td>\n",
       "      <td>22</td>\n",
       "      <td>20</td>\n",
       "      <td>33</td>\n",
       "      <td>32</td>\n",
       "      <td>...</td>\n",
       "      <td>56.0</td>\n",
       "      <td>52.0</td>\n",
       "      <td>4.0</td>\n",
       "      <td>1.0</td>\n",
       "      <td>0.5</td>\n",
       "      <td>2.5</td>\n",
       "      <td>-3.0</td>\n",
       "      <td>1.0</td>\n",
       "      <td>1.0</td>\n",
       "      <td>0.5</td>\n",
       "    </tr>\n",
       "    <tr>\n",
       "      <th>3</th>\n",
       "      <td>W</td>\n",
       "      <td>L</td>\n",
       "      <td>23.0</td>\n",
       "      <td>49.0</td>\n",
       "      <td>24.0</td>\n",
       "      <td>25.0</td>\n",
       "      <td>21</td>\n",
       "      <td>19</td>\n",
       "      <td>36</td>\n",
       "      <td>38</td>\n",
       "      <td>...</td>\n",
       "      <td>72.0</td>\n",
       "      <td>49.0</td>\n",
       "      <td>23.0</td>\n",
       "      <td>1.0</td>\n",
       "      <td>-1.0</td>\n",
       "      <td>1.5</td>\n",
       "      <td>2.5</td>\n",
       "      <td>6.5</td>\n",
       "      <td>1.5</td>\n",
       "      <td>-4.0</td>\n",
       "    </tr>\n",
       "    <tr>\n",
       "      <th>4</th>\n",
       "      <td>W</td>\n",
       "      <td>L</td>\n",
       "      <td>37.0</td>\n",
       "      <td>19.0</td>\n",
       "      <td>24.0</td>\n",
       "      <td>22.0</td>\n",
       "      <td>35</td>\n",
       "      <td>28</td>\n",
       "      <td>38</td>\n",
       "      <td>28</td>\n",
       "      <td>...</td>\n",
       "      <td>56.0</td>\n",
       "      <td>46.0</td>\n",
       "      <td>10.0</td>\n",
       "      <td>3.5</td>\n",
       "      <td>5.0</td>\n",
       "      <td>-2.0</td>\n",
       "      <td>-1.0</td>\n",
       "      <td>-2.0</td>\n",
       "      <td>-1.5</td>\n",
       "      <td>1.5</td>\n",
       "    </tr>\n",
       "  </tbody>\n",
       "</table>\n",
       "<p>5 rows × 30 columns</p>\n",
       "</div>"
      ],
      "text/plain": [
       "  WL_HOME WL_AWAY  PTS_QTR1_HOME  PTS_QTR2_HOME  PTS_QTR1_AWAY  PTS_QTR2_AWAY  \\\n",
       "0       W       L           31.0           26.0           23.0           24.0   \n",
       "1       W       L           21.0           26.0           21.0           21.0   \n",
       "2       W       L           31.0           25.0           23.0           29.0   \n",
       "3       W       L           23.0           49.0           24.0           25.0   \n",
       "4       W       L           37.0           19.0           24.0           22.0   \n",
       "\n",
       "   AST_HOME  AST_AWAY  DREB_HOME  DREB_AWAY  ...  Halftime Home  \\\n",
       "0        28        21         41         29  ...           57.0   \n",
       "1        21        18         43         41  ...           47.0   \n",
       "2        22        20         33         32  ...           56.0   \n",
       "3        21        19         36         38  ...           72.0   \n",
       "4        35        28         38         28  ...           56.0   \n",
       "\n",
       "   Halftime Away  Point Differential  Ast Differential  DREB Differential  \\\n",
       "0           47.0                10.0               3.5                6.0   \n",
       "1           42.0                 5.0               1.5                1.0   \n",
       "2           52.0                 4.0               1.0                0.5   \n",
       "3           49.0                23.0               1.0               -1.0   \n",
       "4           46.0                10.0               3.5                5.0   \n",
       "\n",
       "   OREB Differential  Stl Differential  FTA Differential  Blk Differential  \\\n",
       "0                0.5              -2.5              -9.5               0.5   \n",
       "1                3.0              -0.5              -4.5               0.0   \n",
       "2                2.5              -3.0               1.0               1.0   \n",
       "3                1.5               2.5               6.5               1.5   \n",
       "4               -2.0              -1.0              -2.0              -1.5   \n",
       "\n",
       "   Tov Differential  \n",
       "0               3.0  \n",
       "1              -0.5  \n",
       "2               0.5  \n",
       "3              -4.0  \n",
       "4               1.5  \n",
       "\n",
       "[5 rows x 30 columns]"
      ]
     },
     "execution_count": 41,
     "metadata": {},
     "output_type": "execute_result"
    }
   ],
   "source": [
    "dfhome.head()"
   ]
  },
  {
   "cell_type": "code",
   "execution_count": 42,
   "metadata": {},
   "outputs": [],
   "source": [
    "# Create new dataframe with just relevant predictor features\n",
    "df_new = dfhome.copy() \n",
    "df_new.drop(columns=[\"PTS_QTR1_HOME\", \"PTS_QTR2_HOME\", \"AST_HOME\", \"AST_AWAY\", \"DREB_HOME\", \"DREB_AWAY\", \"OREB_HOME\", \"OREB_AWAY\", \"STL_HOME\", \"STL_AWAY\", \"FTA_HOME\", \"FTA_AWAY\", \"BLK_HOME\", \"BLK_AWAY\", \"TOV_HOME\", \"TOV_AWAY\"],inplace=True)\n",
    "df_new.drop([\"WL_HOME\",\"WL_AWAY\"],axis=1,inplace=True)\n",
    "df_new.drop([\"PTS_QTR1_AWAY\",\"PTS_QTR2_AWAY\",\"Halftime Home\", \"Halftime Away\"],axis=1,inplace=True)"
   ]
  },
  {
   "cell_type": "code",
   "execution_count": 43,
   "metadata": {
    "scrolled": true
   },
   "outputs": [
    {
     "data": {
      "text/html": [
       "<div>\n",
       "<style scoped>\n",
       "    .dataframe tbody tr th:only-of-type {\n",
       "        vertical-align: middle;\n",
       "    }\n",
       "\n",
       "    .dataframe tbody tr th {\n",
       "        vertical-align: top;\n",
       "    }\n",
       "\n",
       "    .dataframe thead th {\n",
       "        text-align: right;\n",
       "    }\n",
       "</style>\n",
       "<table border=\"1\" class=\"dataframe\">\n",
       "  <thead>\n",
       "    <tr style=\"text-align: right;\">\n",
       "      <th></th>\n",
       "      <th>Point Differential</th>\n",
       "      <th>Ast Differential</th>\n",
       "      <th>DREB Differential</th>\n",
       "      <th>OREB Differential</th>\n",
       "      <th>Stl Differential</th>\n",
       "      <th>FTA Differential</th>\n",
       "      <th>Blk Differential</th>\n",
       "      <th>Tov Differential</th>\n",
       "    </tr>\n",
       "  </thead>\n",
       "  <tbody>\n",
       "    <tr>\n",
       "      <th>0</th>\n",
       "      <td>10.0</td>\n",
       "      <td>3.5</td>\n",
       "      <td>6.0</td>\n",
       "      <td>0.5</td>\n",
       "      <td>-2.5</td>\n",
       "      <td>-9.5</td>\n",
       "      <td>0.5</td>\n",
       "      <td>3.0</td>\n",
       "    </tr>\n",
       "    <tr>\n",
       "      <th>1</th>\n",
       "      <td>5.0</td>\n",
       "      <td>1.5</td>\n",
       "      <td>1.0</td>\n",
       "      <td>3.0</td>\n",
       "      <td>-0.5</td>\n",
       "      <td>-4.5</td>\n",
       "      <td>0.0</td>\n",
       "      <td>-0.5</td>\n",
       "    </tr>\n",
       "    <tr>\n",
       "      <th>2</th>\n",
       "      <td>4.0</td>\n",
       "      <td>1.0</td>\n",
       "      <td>0.5</td>\n",
       "      <td>2.5</td>\n",
       "      <td>-3.0</td>\n",
       "      <td>1.0</td>\n",
       "      <td>1.0</td>\n",
       "      <td>0.5</td>\n",
       "    </tr>\n",
       "    <tr>\n",
       "      <th>3</th>\n",
       "      <td>23.0</td>\n",
       "      <td>1.0</td>\n",
       "      <td>-1.0</td>\n",
       "      <td>1.5</td>\n",
       "      <td>2.5</td>\n",
       "      <td>6.5</td>\n",
       "      <td>1.5</td>\n",
       "      <td>-4.0</td>\n",
       "    </tr>\n",
       "    <tr>\n",
       "      <th>4</th>\n",
       "      <td>10.0</td>\n",
       "      <td>3.5</td>\n",
       "      <td>5.0</td>\n",
       "      <td>-2.0</td>\n",
       "      <td>-1.0</td>\n",
       "      <td>-2.0</td>\n",
       "      <td>-1.5</td>\n",
       "      <td>1.5</td>\n",
       "    </tr>\n",
       "  </tbody>\n",
       "</table>\n",
       "</div>"
      ],
      "text/plain": [
       "   Point Differential  Ast Differential  DREB Differential  OREB Differential  \\\n",
       "0                10.0               3.5                6.0                0.5   \n",
       "1                 5.0               1.5                1.0                3.0   \n",
       "2                 4.0               1.0                0.5                2.5   \n",
       "3                23.0               1.0               -1.0                1.5   \n",
       "4                10.0               3.5                5.0               -2.0   \n",
       "\n",
       "   Stl Differential  FTA Differential  Blk Differential  Tov Differential  \n",
       "0              -2.5              -9.5               0.5               3.0  \n",
       "1              -0.5              -4.5               0.0              -0.5  \n",
       "2              -3.0               1.0               1.0               0.5  \n",
       "3               2.5               6.5               1.5              -4.0  \n",
       "4              -1.0              -2.0              -1.5               1.5  "
      ]
     },
     "execution_count": 43,
     "metadata": {},
     "output_type": "execute_result"
    }
   ],
   "source": [
    "df_new.head() # 8 different attributes to base predictions on"
   ]
  },
  {
   "cell_type": "markdown",
   "metadata": {},
   "source": [
    "Data Definitions: \n",
    "- Point Differential: difference in points scored between home and away team\n",
    "- Ast Differential: difference in assists\t\n",
    "- DREB Differential: difference in rebounds secured on defense\n",
    "- OREB Differential: difference in rebounds secured on offence\t\n",
    "- Stl Differential: difference in steals\t\n",
    "- FTA Differential: difference in the number of free throws attempted\t\n",
    "- Blk Differential: difference in blocks\t\n",
    "- Tov Differential: difference in turnovers"
   ]
  },
  {
   "cell_type": "markdown",
   "metadata": {},
   "source": [
    "## Exploratory Data Analysis and Visualization"
   ]
  },
  {
   "cell_type": "code",
   "execution_count": 44,
   "metadata": {
    "scrolled": true
   },
   "outputs": [
    {
     "name": "stdout",
     "output_type": "stream",
     "text": [
      "\n",
      " W    0.56173\n",
      "L    0.43827\n",
      "Name: WL_HOME, dtype: float64\n"
     ]
    },
    {
     "data": {
      "image/png": "[encoded data removed]",
      "text/plain": [
       "<Figure size 432x288 with 1 Axes>"
      ]
     },
     "metadata": {
      "needs_background": "light"
     },
     "output_type": "display_data"
    }
   ],
   "source": [
    "# Home Team Advantage\n",
    "sns.countplot(x=\"WL_HOME\",data=dfhome)\n",
    "print('\\n',dfhome[\"WL_HOME\"].value_counts(normalize=True))"
   ]
  },
  {
   "cell_type": "markdown",
   "metadata": {},
   "source": [
    "If both the home and away teams had no built-in advantage, we would expect that the winning proportion for each would be approximately 50/50. However, we can see here that home teams have a slight advantage over the away team - the well-known \"home-court advantage\" in basketball terms - since our data is built around the difference between home and away teams in various statistical categories, we should be aware of this bias."
   ]
  },
  {
   "cell_type": "code",
   "execution_count": 45,
   "metadata": {
    "scrolled": false
   },
   "outputs": [
    {
     "data": {
      "text/plain": [
       "<seaborn.axisgrid.FacetGrid at 0x7fc359661910>"
      ]
     },
     "execution_count": 45,
     "metadata": {},
     "output_type": "execute_result"
    },
    {
     "data": {
      "image/png": "[encoded data removed]",
      "text/plain": [
       "<Figure size 360x360 with 1 Axes>"
      ]
     },
     "metadata": {
      "needs_background": "light"
     },
     "output_type": "display_data"
    }
   ],
   "source": [
    "# Point differential (as measured Home - Away) is approximately normally distributed\n",
    "sns.displot(dfhome[\"Point Differential\"])"
   ]
  },
  {
   "cell_type": "markdown",
   "metadata": {},
   "source": [
    "Point differential is approximately normally distributed."
   ]
  },
  {
   "cell_type": "code",
   "execution_count": 46,
   "metadata": {
    "scrolled": false
   },
   "outputs": [
    {
     "data": {
      "text/plain": [
       "W    0.764151\n",
       "L    0.235849\n",
       "Name: WL_HOME, dtype: float64"
      ]
     },
     "execution_count": 46,
     "metadata": {},
     "output_type": "execute_result"
    }
   ],
   "source": [
    "dfhome[dfhome[\"Point Differential\"].between(5,5)][\"WL_HOME\"].value_counts(normalize=True)"
   ]
  },
  {
   "cell_type": "markdown",
   "metadata": {},
   "source": [
    "Given just a 5-point lead at halftime, the home team is expected to win 76.4% of the time. This illustrates that point differential will likely be a very strong feature for this dataset in predicting W or L."
   ]
  },
  {
   "cell_type": "code",
   "execution_count": 47,
   "metadata": {
    "scrolled": false
   },
   "outputs": [
    {
     "data": {
      "text/html": [
       "<div>\n",
       "<style scoped>\n",
       "    .dataframe tbody tr th:only-of-type {\n",
       "        vertical-align: middle;\n",
       "    }\n",
       "\n",
       "    .dataframe tbody tr th {\n",
       "        vertical-align: top;\n",
       "    }\n",
       "\n",
       "    .dataframe thead th {\n",
       "        text-align: right;\n",
       "    }\n",
       "</style>\n",
       "<table border=\"1\" class=\"dataframe\">\n",
       "  <thead>\n",
       "    <tr style=\"text-align: right;\">\n",
       "      <th></th>\n",
       "      <th>Point Differential</th>\n",
       "      <th>Ast Differential</th>\n",
       "      <th>DREB Differential</th>\n",
       "      <th>OREB Differential</th>\n",
       "      <th>Stl Differential</th>\n",
       "      <th>FTA Differential</th>\n",
       "      <th>Blk Differential</th>\n",
       "      <th>Tov Differential</th>\n",
       "    </tr>\n",
       "  </thead>\n",
       "  <tbody>\n",
       "    <tr>\n",
       "      <th>count</th>\n",
       "      <td>3329.000000</td>\n",
       "      <td>3329.000000</td>\n",
       "      <td>3329.000000</td>\n",
       "      <td>3329.000000</td>\n",
       "      <td>3329.000000</td>\n",
       "      <td>3329.000000</td>\n",
       "      <td>3329.000000</td>\n",
       "      <td>3329.000000</td>\n",
       "    </tr>\n",
       "    <tr>\n",
       "      <th>mean</th>\n",
       "      <td>1.211475</td>\n",
       "      <td>0.416191</td>\n",
       "      <td>0.464254</td>\n",
       "      <td>0.123160</td>\n",
       "      <td>-0.085461</td>\n",
       "      <td>0.329528</td>\n",
       "      <td>0.099579</td>\n",
       "      <td>0.067588</td>\n",
       "    </tr>\n",
       "    <tr>\n",
       "      <th>std</th>\n",
       "      <td>11.246943</td>\n",
       "      <td>3.364840</td>\n",
       "      <td>3.753854</td>\n",
       "      <td>2.612752</td>\n",
       "      <td>1.981695</td>\n",
       "      <td>4.494104</td>\n",
       "      <td>1.746067</td>\n",
       "      <td>2.581793</td>\n",
       "    </tr>\n",
       "    <tr>\n",
       "      <th>min</th>\n",
       "      <td>-50.000000</td>\n",
       "      <td>-11.000000</td>\n",
       "      <td>-11.500000</td>\n",
       "      <td>-11.000000</td>\n",
       "      <td>-6.500000</td>\n",
       "      <td>-19.000000</td>\n",
       "      <td>-6.000000</td>\n",
       "      <td>-9.500000</td>\n",
       "    </tr>\n",
       "    <tr>\n",
       "      <th>25%</th>\n",
       "      <td>-6.000000</td>\n",
       "      <td>-2.000000</td>\n",
       "      <td>-2.000000</td>\n",
       "      <td>-1.500000</td>\n",
       "      <td>-1.500000</td>\n",
       "      <td>-2.500000</td>\n",
       "      <td>-1.000000</td>\n",
       "      <td>-1.500000</td>\n",
       "    </tr>\n",
       "    <tr>\n",
       "      <th>50%</th>\n",
       "      <td>1.000000</td>\n",
       "      <td>0.500000</td>\n",
       "      <td>0.500000</td>\n",
       "      <td>0.000000</td>\n",
       "      <td>0.000000</td>\n",
       "      <td>0.500000</td>\n",
       "      <td>0.000000</td>\n",
       "      <td>0.000000</td>\n",
       "    </tr>\n",
       "    <tr>\n",
       "      <th>75%</th>\n",
       "      <td>9.000000</td>\n",
       "      <td>2.500000</td>\n",
       "      <td>3.000000</td>\n",
       "      <td>2.000000</td>\n",
       "      <td>1.000000</td>\n",
       "      <td>3.500000</td>\n",
       "      <td>1.000000</td>\n",
       "      <td>2.000000</td>\n",
       "    </tr>\n",
       "    <tr>\n",
       "      <th>max</th>\n",
       "      <td>41.000000</td>\n",
       "      <td>13.000000</td>\n",
       "      <td>13.000000</td>\n",
       "      <td>9.000000</td>\n",
       "      <td>6.500000</td>\n",
       "      <td>17.500000</td>\n",
       "      <td>7.500000</td>\n",
       "      <td>11.000000</td>\n",
       "    </tr>\n",
       "  </tbody>\n",
       "</table>\n",
       "</div>"
      ],
      "text/plain": [
       "       Point Differential  Ast Differential  DREB Differential  \\\n",
       "count         3329.000000       3329.000000        3329.000000   \n",
       "mean             1.211475          0.416191           0.464254   \n",
       "std             11.246943          3.364840           3.753854   \n",
       "min            -50.000000        -11.000000         -11.500000   \n",
       "25%             -6.000000         -2.000000          -2.000000   \n",
       "50%              1.000000          0.500000           0.500000   \n",
       "75%              9.000000          2.500000           3.000000   \n",
       "max             41.000000         13.000000          13.000000   \n",
       "\n",
       "       OREB Differential  Stl Differential  FTA Differential  \\\n",
       "count        3329.000000       3329.000000       3329.000000   \n",
       "mean            0.123160         -0.085461          0.329528   \n",
       "std             2.612752          1.981695          4.494104   \n",
       "min           -11.000000         -6.500000        -19.000000   \n",
       "25%            -1.500000         -1.500000         -2.500000   \n",
       "50%             0.000000          0.000000          0.500000   \n",
       "75%             2.000000          1.000000          3.500000   \n",
       "max             9.000000          6.500000         17.500000   \n",
       "\n",
       "       Blk Differential  Tov Differential  \n",
       "count       3329.000000       3329.000000  \n",
       "mean           0.099579          0.067588  \n",
       "std            1.746067          2.581793  \n",
       "min           -6.000000         -9.500000  \n",
       "25%           -1.000000         -1.500000  \n",
       "50%            0.000000          0.000000  \n",
       "75%            1.000000          2.000000  \n",
       "max            7.500000         11.000000  "
      ]
     },
     "execution_count": 47,
     "metadata": {},
     "output_type": "execute_result"
    },
    {
     "data": {
      "image/png": "[encoded data removed]",
      "text/plain": [
       "<Figure size 432x288 with 1 Axes>"
      ]
     },
     "metadata": {
      "needs_background": "light"
     },
     "output_type": "display_data"
    }
   ],
   "source": [
    "# Summary Statistics for all attributes\n",
    "plt.barh(df_new.describe().columns, df_new.describe().iloc[1])\n",
    "df_new.describe()"
   ]
  },
  {
   "cell_type": "markdown",
   "metadata": {},
   "source": [
    "The bar graph displays the mean for each attribute - the home team has a slight lead in each attribute except the Steal differential. The point differential appears to be greater than the others but that is because points are scaled differently than the rest of the columns - we will perform standardization next."
   ]
  },
  {
   "cell_type": "code",
   "execution_count": 48,
   "metadata": {},
   "outputs": [
    {
     "data": {
      "text/plain": [
       "<AxesSubplot:>"
      ]
     },
     "execution_count": 48,
     "metadata": {},
     "output_type": "execute_result"
    },
    {
     "data": {
      "image/png": "[encoded data removed]",
      "text/plain": [
       "<Figure size 432x288 with 1 Axes>"
      ]
     },
     "metadata": {
      "needs_background": "light"
     },
     "output_type": "display_data"
    }
   ],
   "source": [
    "# Distribution of each attribute \n",
    "df_new.boxplot(vert=False)"
   ]
  },
  {
   "cell_type": "markdown",
   "metadata": {},
   "source": [
    "The distribution of each attribute appears to be normally distributed with a mean centering around 0. This meets the normality assumption that allows us to scale the data, since the attributes are in different units (e.g. - point scored is different than rebounds or assists, and has a higher magnitude, which can be seen by it's distribution being wider.)"
   ]
  },
  {
   "cell_type": "code",
   "execution_count": 49,
   "metadata": {},
   "outputs": [],
   "source": [
    "# Need to normalize variables, since they are different units and on different scales\n",
    "scaler = StandardScaler()\n",
    "scaler.fit(df_new)\n",
    "scaled_features = scaler.transform(df_new)"
   ]
  },
  {
   "cell_type": "markdown",
   "metadata": {},
   "source": [
    "## Model Building"
   ]
  },
  {
   "cell_type": "markdown",
   "metadata": {},
   "source": [
    "To build our predictive model, we will use two algorithms: logistic regression and K-Nearest Neighbors. This problem is a binary classification problem - want to predict one of two classes: W or L - these two classes are the expected output from the models."
   ]
  },
  {
   "cell_type": "markdown",
   "metadata": {},
   "source": [
    " ### 1. Creating Training and Testing Data"
   ]
  },
  {
   "cell_type": "code",
   "execution_count": 50,
   "metadata": {},
   "outputs": [],
   "source": [
    "X_train, X_test, y_train, y_test = train_test_split(scaled_features, dfhome[\"WL_HOME\"], test_size=0.30, random_state=101)"
   ]
  },
  {
   "cell_type": "markdown",
   "metadata": {},
   "source": [
    "### 2. Building & Evaluating Logistic Regression Model"
   ]
  },
  {
   "cell_type": "code",
   "execution_count": 51,
   "metadata": {
    "scrolled": false
   },
   "outputs": [
    {
     "name": "stdout",
     "output_type": "stream",
     "text": [
      "              precision    recall  f1-score   support\n",
      "\n",
      "           L       0.88      0.88      0.88       445\n",
      "           W       0.90      0.90      0.90       554\n",
      "\n",
      "    accuracy                           0.89       999\n",
      "   macro avg       0.89      0.89      0.89       999\n",
      "weighted avg       0.89      0.89      0.89       999\n",
      "\n"
     ]
    }
   ],
   "source": [
    "logmodel = LogisticRegression()\n",
    "logmodel.fit(X_train,y_train)\n",
    "log_preds = logmodel.predict(X_test)\n",
    "log_acc = accuracy_score(y_test,log_preds)\n",
    "print(classification_report(y_test,log_preds))"
   ]
  },
  {
   "cell_type": "markdown",
   "metadata": {},
   "source": [
    "### 3. Building & Evaluating K-Nearest Neighbors Model\n",
    "One of the difficulties with using a K-NN model is to decide on the parameter k. In order to optimize our model performance, we will start with a baseline of k = 1, and then use the elbow method to find the optimal k."
   ]
  },
  {
   "cell_type": "code",
   "execution_count": 52,
   "metadata": {
    "scrolled": false
   },
   "outputs": [
    {
     "name": "stdout",
     "output_type": "stream",
     "text": [
      "              precision    recall  f1-score   support\n",
      "\n",
      "           L       0.77      0.77      0.77       445\n",
      "           W       0.82      0.82      0.82       554\n",
      "\n",
      "    accuracy                           0.80       999\n",
      "   macro avg       0.80      0.80      0.80       999\n",
      "weighted avg       0.80      0.80      0.80       999\n",
      "\n"
     ]
    }
   ],
   "source": [
    "# Initial model: K = 1\n",
    "knn = KNeighborsClassifier(n_neighbors=1)\n",
    "knn.fit(X_train,y_train)\n",
    "knn_preds = knn.predict(X_test)\n",
    "print(classification_report(y_test,knn_preds))"
   ]
  },
  {
   "cell_type": "markdown",
   "metadata": {},
   "source": [
    "With our baseline accuracy of 0.80, we will iterate through different values of k, from 1 through 39. We will calculate the accuracy scores for each of these models and append it to a list, where we will then plot the value of k with it's corresponding accuracy score."
   ]
  },
  {
   "cell_type": "code",
   "execution_count": 53,
   "metadata": {},
   "outputs": [
    {
     "data": {
      "text/plain": [
       "Text(0, 0.5, 'Accuracy')"
      ]
     },
     "execution_count": 53,
     "metadata": {},
     "output_type": "execute_result"
    },
    {
     "data": {
      "image/png": "[encoded data removed]",
      "text/plain": [
       "<Figure size 720x360 with 1 Axes>"
      ]
     },
     "metadata": {
      "needs_background": "light"
     },
     "output_type": "display_data"
    }
   ],
   "source": [
    "# Optimizing K\n",
    "\n",
    "accuracy = []\n",
    "\n",
    "# Creating different models with different values for k\n",
    "for i in range(1,40):\n",
    "    knn = KNeighborsClassifier(n_neighbors=i)\n",
    "    knn.fit(X_train,y_train)\n",
    "    pred_i = knn.predict(X_test)\n",
    "    acc_knn = accuracy_score(y_test, pred_i)\n",
    "    accuracy.append(acc_knn)\n",
    "    \n",
    "# Plot    \n",
    "plt.figure(figsize=(10,5))\n",
    "plt.plot(range(1,40),accuracy,color='black', marker='.',\n",
    "         markerfacecolor='red', markersize=15)\n",
    "plt.title('Accuracy vs. K Value')\n",
    "plt.xlabel('K')\n",
    "plt.ylabel('Accuracy')"
   ]
  },
  {
   "cell_type": "markdown",
   "metadata": {},
   "source": [
    "The graph shows us that k-values after k = 15 seem to just randomly hover around an accuracy of 0.87. We prefer simpler models, so we will use K = 15. "
   ]
  },
  {
   "cell_type": "code",
   "execution_count": 54,
   "metadata": {
    "scrolled": true
   },
   "outputs": [
    {
     "name": "stdout",
     "output_type": "stream",
     "text": [
      "              precision    recall  f1-score   support\n",
      "\n",
      "           L       0.88      0.83      0.86       445\n",
      "           W       0.87      0.91      0.89       554\n",
      "\n",
      "    accuracy                           0.87       999\n",
      "   macro avg       0.88      0.87      0.87       999\n",
      "weighted avg       0.88      0.87      0.87       999\n",
      "\n"
     ]
    }
   ],
   "source": [
    "knn_15 = KNeighborsClassifier(n_neighbors=15)\n",
    "knn_15.fit(X_train,y_train)\n",
    "knn15_preds = knn.predict(X_test)\n",
    "knn_acc = accuracy_score(y_test,knn15_preds)\n",
    "print(classification_report(y_test,knn15_preds))"
   ]
  },
  {
   "cell_type": "markdown",
   "metadata": {},
   "source": [
    "In the end, by using the elbow method to optimize our k value, we ended with an accuracy score of 0.87, a 0.07 increase over our baseline, unoptimized k = 1 model. Now we will compare the accuracies of our logistic regression and K-NN model to come to a final conclusion of which model to use."
   ]
  },
  {
   "cell_type": "markdown",
   "metadata": {},
   "source": [
    "### 4. Final Model Evaluation"
   ]
  },
  {
   "cell_type": "code",
   "execution_count": 58,
   "metadata": {},
   "outputs": [
    {
     "data": {
      "text/html": [
       "<div>\n",
       "<style scoped>\n",
       "    .dataframe tbody tr th:only-of-type {\n",
       "        vertical-align: middle;\n",
       "    }\n",
       "\n",
       "    .dataframe tbody tr th {\n",
       "        vertical-align: top;\n",
       "    }\n",
       "\n",
       "    .dataframe thead th {\n",
       "        text-align: right;\n",
       "    }\n",
       "</style>\n",
       "<table border=\"1\" class=\"dataframe\">\n",
       "  <thead>\n",
       "    <tr style=\"text-align: right;\">\n",
       "      <th></th>\n",
       "      <th>Classifier</th>\n",
       "      <th>Score</th>\n",
       "    </tr>\n",
       "  </thead>\n",
       "  <tbody>\n",
       "    <tr>\n",
       "      <th>0</th>\n",
       "      <td>Logarithmic</td>\n",
       "      <td>0.892893</td>\n",
       "    </tr>\n",
       "    <tr>\n",
       "      <th>1</th>\n",
       "      <td>K-NN</td>\n",
       "      <td>0.874875</td>\n",
       "    </tr>\n",
       "  </tbody>\n",
       "</table>\n",
       "</div>"
      ],
      "text/plain": [
       "    Classifier     Score\n",
       "0  Logarithmic  0.892893\n",
       "1         K-NN  0.874875"
      ]
     },
     "execution_count": 58,
     "metadata": {},
     "output_type": "execute_result"
    }
   ],
   "source": [
    "accuracies = [log_acc, knn_acc]\n",
    "acc_df = pd.DataFrame({\"Classifier\": [\"Logarithmic\", \"K-NN\"],\"Score\": accuracies})\n",
    "acc_df.sort_values(\"Score\", ascending=False)"
   ]
  },
  {
   "cell_type": "markdown",
   "metadata": {
    "scrolled": true
   },
   "source": [
    "A logistic regression model narrowly has a better accuracy score than the K-NN model. Therefore, the logistic regression model will be our model of choice for this problem."
   ]
  },
  {
   "cell_type": "markdown",
   "metadata": {},
   "source": [
    "## Conclusion\n",
    "In summary, we extracted our data from a SQLite database and used a simple SQL query to retrieve data from after the 2018-2019 season. We performed data cleaning by removing nulls and converting the data to the appropriate data types. We did some simple feature engineering as well by calculatign new differential columns that measured the difference between the home and the away teams for various statistical categories - these would become our predictor variables. We then performed exploratory data analysis, exploring the biases and statistical properties of our predictor variables, and also standardized the data. Lastly, we applied both a logistic regression and a K-nearest neighbors model to the dataset, and concluded that the logistic regression model had better performance.\n",
    "\n",
    "Using this model, gambling websites and companies can improve their live odds for NBA games after halftime. More accurate predictions of games will reduce discrepancies between the odds for a game and teh actual outcome, which will save the company money by reducing the payout amount they give due to inaccurate predictions on games."
   ]
  },
  {
   "cell_type": "code",
   "execution_count": null,
   "metadata": {},
   "outputs": [],
   "source": []
  }
 ],
 "metadata": {
  "kernelspec": {
   "display_name": "Python 3",
   "language": "python",
   "name": "python3"
  },
  "language_info": {
   "codemirror_mode": {
    "name": "ipython",
    "version": 3
   },
   "file_extension": ".py",
   "mimetype": "text/x-python",
   "name": "python",
   "nbconvert_exporter": "python",
   "pygments_lexer": "ipython3",
   "version": "3.8.8"
  }
 },
 "nbformat": 4,
 "nbformat_minor": 4
}
